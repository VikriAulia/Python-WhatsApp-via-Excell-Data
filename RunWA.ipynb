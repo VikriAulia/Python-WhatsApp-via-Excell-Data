{
 "cells": [
  {
   "cell_type": "code",
   "execution_count": 1,
   "id": "bae87ce8",
   "metadata": {},
   "outputs": [],
   "source": [
    "import pandas as pd\n",
    "import pywhatkit"
   ]
  },
  {
   "cell_type": "code",
   "execution_count": 2,
   "id": "45aac5f1",
   "metadata": {},
   "outputs": [],
   "source": [
    "require_cols = [3,4,6,8]"
   ]
  },
  {
   "cell_type": "code",
   "execution_count": 4,
   "id": "57eada4f",
   "metadata": {},
   "outputs": [],
   "source": [
    "dataframe1 = pd.read_excel('excel/JadwalFull.xlsx', sheet_name=0, usecols=require_cols, header=0)"
   ]
  },
  {
   "cell_type": "code",
   "execution_count": 5,
   "id": "8af72bfe",
   "metadata": {},
   "outputs": [
    {
     "name": "stdout",
     "output_type": "stream",
     "text": [
      "            NAMA KANDIDAT  HP KANDIDAT TANGGAL SMWW             JAM SMWW\n",
      "0     Widya Fitri Malinda  81335665617   31-08-2022  08:00:00 - 09:30:00\n",
      "1   Hesti Arifah Agustina  87885692879   31-08-2022  08:00:00 - 09:30:00\n",
      "2      Aknanta Mutia Dara  81261879236   31-08-2022  08:00:00 - 09:30:00\n",
      "3         Hendrik Alpiton  82224139284   31-08-2022  08:00:00 - 09:30:00\n",
      "4           Ridho Rosasdi  82284748191   31-08-2022  10:00:00 - 11:30:00\n",
      "..                    ...          ...          ...                  ...\n",
      "88             Nurul Aini  87761798147   09-09-2022  18:30:00 - 20:00:00\n",
      "89           RABIULLUDDIN  85277469527   10-09-2022  08:00:00 - 09:30:00\n",
      "90         Siti Nurhalisa  85296683314   10-09-2022  10:00:00 - 11:30:00\n",
      "91            Aulia Putri  82163136641   10-09-2022  12:00:00 - 13:30:00\n",
      "92           Fitra Wijaya  82237151682   10-09-2022  14:00:00 - 15:30:00\n",
      "\n",
      "[93 rows x 4 columns]\n"
     ]
    }
   ],
   "source": [
    "print(dataframe1)"
   ]
  },
  {
   "cell_type": "code",
   "execution_count": null,
   "id": "fff0e860",
   "metadata": {},
   "outputs": [],
   "source": [
    "# Send a message immediately\n",
    "def send_message_immediately(whats_app_number, message):\n",
    "\n",
    "    pywhatkit.sendwhatmsg_instantly(\n",
    "        phone_no=whats_app_number,\n",
    "        message=message,\n",
    "        wait_time=27,\n",
    "        tab_close=True,\n",
    "        close_time=5,\n",
    "    )"
   ]
  },
  {
   "cell_type": "code",
   "execution_count": null,
   "id": "1e80dda6",
   "metadata": {},
   "outputs": [],
   "source": [
    "def loop_with_for(df,colom):\n",
    "    for index in range(len(df)):\n",
    "        print(df[colom].iloc[index])\n",
    "    "
   ]
  },
  {
   "cell_type": "code",
   "execution_count": null,
   "id": "fe88d276",
   "metadata": {},
   "outputs": [
    {
     "name": "stdout",
     "output_type": "stream",
     "text": [
      "       NAMA KANDIDAT  HP KANDIDAT TANGGAL SMWW             JAM SMWW\n",
      "0  yulisa putri asti  87864073495   01-09-2022  18:30:00 - 20:00:00\n"
     ]
    }
   ],
   "source": [
    "print(dataframe1)"
   ]
  },
  {
   "cell_type": "code",
   "execution_count": null,
   "id": "0a3ff38d",
   "metadata": {},
   "outputs": [],
   "source": [
    "def execute_send(df):\n",
    "    #for index in range(len(df)):\n",
    "    for index in range(5):\n",
    "        nama = str(df['NAMA KANDIDAT'].iloc[index])\n",
    "        tanggal = str(df['TANGGAL SMWW'].iloc[index])\n",
    "        jam = str(df['JAM SMWW'].iloc[index])\n",
    "        message = \"Selamat malam kepada peserta PPG Prajabatan Gelombang 1 A/N \"+nama+\".\\n\\nMohon diperhatikan jadwal wawancara untuk saudara/i adalah besok tanggal \"+ tanggal + \" Pukul \" +jam +\" WIB.\\n\\nPastikan kondisi saudara/i sudah siap 10 menit sebelum jam yang ditetapkan.\\nSelanjutnya jika sudah masuk jam yang di tetapkan silahkan  memulai wawancara dengan mengklik tombol mulai wawancara pada akun saudara/i, kemudian tunggu assesor mengklik tombol untuk saudara/i dapat masuk ke ruang google meet, batas keterlambatan untuk bergabung ke ruang google meet adalah 15 menit, jika lewat dari 15 menit tanpa ada konfirmasi maka saudara/i beresiko gugur.\\n\\nKodisikan ruangan tempat saudara/i berada dan dalam keadaan terang, kondusif, aman dan nyaman, baterai gadget terisi penuh dan koneksi internet minimal kecepatan 3MBPS / 300kbps.\\n\\nWaktu wawancara adalah selama 90 menit dengan 60 menit wawancara dua arah dan 30 menit terakhir adalah proses penyamaan nilai oleh assesor. \\n\\nTerimakasih dan Semoga Sukses \\n~ Pemantau Wawancara ~ \"\n",
    "        hpstr = str(df['HP KANDIDAT'].iloc[index])\n",
    "        hp = '+62'+hpstr\n",
    "        send_message_immediately(hp, message)"
   ]
  },
  {
   "cell_type": "markdown",
   "id": "19d2b809",
   "metadata": {},
   "source": [
    "### Execute to send message"
   ]
  },
  {
   "cell_type": "code",
   "execution_count": null,
   "id": "73ea8685",
   "metadata": {},
   "outputs": [],
   "source": [
    "execute_send(dataframe1)"
   ]
  },
  {
   "cell_type": "code",
   "execution_count": null,
   "id": "5689af07",
   "metadata": {},
   "outputs": [],
   "source": []
  }
 ],
 "metadata": {
  "kernelspec": {
   "display_name": "Python 3.9.12 ('pythonWA')",
   "language": "python",
   "name": "python3"
  },
  "language_info": {
   "codemirror_mode": {
    "name": "ipython",
    "version": 3
   },
   "file_extension": ".py",
   "mimetype": "text/x-python",
   "name": "python",
   "nbconvert_exporter": "python",
   "pygments_lexer": "ipython3",
   "version": "3.9.12"
  },
  "vscode": {
   "interpreter": {
    "hash": "db64b514225c378e8094e0bb89030f4c84ac2cd5609a929a8eec0837b59226bd"
   }
  }
 },
 "nbformat": 4,
 "nbformat_minor": 5
}
